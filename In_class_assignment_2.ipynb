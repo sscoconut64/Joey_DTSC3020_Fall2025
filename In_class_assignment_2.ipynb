{
  "nbformat": 4,
  "nbformat_minor": 0,
  "metadata": {
    "colab": {
      "provenance": [],
      "authorship_tag": "ABX9TyO5NgwcSpSmPpbPdFmcni5o",
      "include_colab_link": true
    },
    "kernelspec": {
      "name": "python3",
      "display_name": "Python 3"
    },
    "language_info": {
      "name": "python"
    }
  },
  "cells": [
    {
      "cell_type": "markdown",
      "metadata": {
        "id": "view-in-github",
        "colab_type": "text"
      },
      "source": [
        "<a href=\"https://colab.research.google.com/github/sscoconut64/Joey_DTSC3020_Fall2025/blob/main/In_class_assignment_2.ipynb\" target=\"_parent\"><img src=\"https://colab.research.google.com/assets/colab-badge.svg\" alt=\"Open In Colab\"/></a>"
      ]
    },
    {
      "cell_type": "markdown",
      "source": [],
      "metadata": {
        "id": "40LcSrdchOrA"
      }
    },
    {
      "cell_type": "code",
      "execution_count": 4,
      "metadata": {
        "colab": {
          "base_uri": "https://localhost:8080/"
        },
        "id": "-M9gVH7afiyV",
        "outputId": "b3853e67-4871-4eb8-a47c-e468215d7941"
      },
      "outputs": [
        {
          "output_type": "stream",
          "name": "stdout",
          "text": [
            "['Pineapple', 'Cantelope', 'Watermelon']\n",
            "Pineapple\n",
            "Cantelope\n",
            "Watermelon\n"
          ]
        }
      ],
      "source": [
        "#1\n",
        "fruitList = [\"Pineapple\" , \"Cantelope\" , \"Watermelon\"]\n",
        "print(fruitList)\n",
        "print(fruitList[0])\n",
        "print(fruitList[1])\n",
        "print(fruitList[2])"
      ]
    },
    {
      "cell_type": "code",
      "source": [
        "#2\n",
        "fourList = [\"Joey\" , \"Brandon\" , \"Jalen\", \"Taylor\"]\n",
        "fourList[0] = \"Damien\"\n",
        "print(fourList)"
      ],
      "metadata": {
        "colab": {
          "base_uri": "https://localhost:8080/"
        },
        "id": "kA11c2jAibl6",
        "outputId": "5982dd5a-ef23-441e-d0ee-97423a9aabd2"
      },
      "execution_count": 5,
      "outputs": [
        {
          "output_type": "stream",
          "name": "stdout",
          "text": [
            "['Damien', 'Brandon', 'Jalen', 'Taylor']\n"
          ]
        }
      ]
    },
    {
      "cell_type": "code",
      "source": [
        "#3\n",
        "vehicleList = [\"Car\" , \"Plane\" , \"Bus\" , \"Train\" , \"Bicycle\"]\n",
        "vehicleList.append(\"Truck\")\n",
        "print(vehicleList)"
      ],
      "metadata": {
        "colab": {
          "base_uri": "https://localhost:8080/"
        },
        "id": "Cx9An7W-i_AM",
        "outputId": "635c622b-a376-4c18-b94b-6854f9df3a89"
      },
      "execution_count": 6,
      "outputs": [
        {
          "output_type": "stream",
          "name": "stdout",
          "text": [
            "['Car', 'Plane', 'Bus', 'Train', 'Bicycle', 'Truck']\n"
          ]
        }
      ]
    },
    {
      "cell_type": "code",
      "source": [
        "#4\n",
        "foodList = [\"Pizza\" , \"Spaghetti\" , \"Tacos\" , \"Rice\" , \"Steak\" , \"Corn\"]\n",
        "foodList.remove(\"Corn\")\n",
        "print(foodList)"
      ],
      "metadata": {
        "colab": {
          "base_uri": "https://localhost:8080/"
        },
        "id": "0s8jcmQVjW6T",
        "outputId": "b1d031dd-81c8-4eec-feb9-375f35b58506"
      },
      "execution_count": 8,
      "outputs": [
        {
          "output_type": "stream",
          "name": "stdout",
          "text": [
            "['Pizza', 'Spaghetti', 'Tacos', 'Rice', 'Steak']\n"
          ]
        }
      ]
    },
    {
      "cell_type": "code",
      "source": [
        "#5\n",
        "citiesList = [\"Euless\" , \"Fort Worth\" , \"Denton\" , \"Houston\"]\n",
        "citiesList.sort()\n",
        "print(citiesList)"
      ],
      "metadata": {
        "colab": {
          "base_uri": "https://localhost:8080/"
        },
        "id": "WN_vUzahkHtW",
        "outputId": "643ba55c-ddda-46f0-bfe2-cd673451ff1c"
      },
      "execution_count": 9,
      "outputs": [
        {
          "output_type": "stream",
          "name": "stdout",
          "text": [
            "['Denton', 'Euless', 'Fort Worth', 'Houston']\n"
          ]
        }
      ]
    },
    {
      "cell_type": "code",
      "source": [
        "#6\n",
        "animalsList = [\"Cat\" , \"Dog\" , \"Deer\"]\n",
        "for x in animalsList:\n",
        "  print(x)"
      ],
      "metadata": {
        "colab": {
          "base_uri": "https://localhost:8080/"
        },
        "id": "jV8UFaHekgXh",
        "outputId": "78e406f3-0ca7-4dd9-9887-be28bc533a21"
      },
      "execution_count": 10,
      "outputs": [
        {
          "output_type": "stream",
          "name": "stdout",
          "text": [
            "Cat\n",
            "Dog\n",
            "Deer\n"
          ]
        }
      ]
    },
    {
      "cell_type": "code",
      "source": [
        "#7\n",
        "numbersList = [1, 2, 3, 4, 5]\n",
        "for x in numbersList:\n",
        "  x = x * 2\n",
        "  print(x)"
      ],
      "metadata": {
        "colab": {
          "base_uri": "https://localhost:8080/"
        },
        "id": "smzd1YoYk1pG",
        "outputId": "1f7b5de7-a7b2-45fd-de9d-dd016811b362"
      },
      "execution_count": 11,
      "outputs": [
        {
          "output_type": "stream",
          "name": "stdout",
          "text": [
            "2\n",
            "4\n",
            "6\n",
            "8\n",
            "10\n"
          ]
        }
      ]
    },
    {
      "cell_type": "code",
      "source": [
        "#8\n",
        "friendsList = [\"Brandon\" , \"Jalen\" , \"Nicholas\" , \"Jeffrey\" , \"Taylor\" , \"Damien\"]\n",
        "print(friendsList[0:3])\n",
        "print(friendsList[3:6])"
      ],
      "metadata": {
        "colab": {
          "base_uri": "https://localhost:8080/"
        },
        "id": "-uXeK0ftlLf2",
        "outputId": "9f15911a-21a5-43a7-b757-6a896c686c1c"
      },
      "execution_count": 17,
      "outputs": [
        {
          "output_type": "stream",
          "name": "stdout",
          "text": [
            "['Brandon', 'Jalen', 'Nicholas']\n",
            "['Jeffrey', 'Taylor', 'Damien']\n"
          ]
        }
      ]
    },
    {
      "cell_type": "code",
      "source": [
        "#9\n",
        "rangeList = list(range(1,11))\n",
        "print(rangeList)"
      ],
      "metadata": {
        "colab": {
          "base_uri": "https://localhost:8080/"
        },
        "id": "m1JcgqKsl6Ub",
        "outputId": "0cd817a5-18d0-4b75-9836-d04793631f4b"
      },
      "execution_count": 21,
      "outputs": [
        {
          "output_type": "stream",
          "name": "stdout",
          "text": [
            "[1, 2, 3, 4, 5, 6, 7, 8, 9, 10]\n"
          ]
        }
      ]
    },
    {
      "cell_type": "code",
      "source": [
        "#10\n",
        "numbers = [1, 2, 3, 4, 5]\n",
        "\n",
        "newlist = [x**2 for x in numbers]\n",
        "print(newlist)"
      ],
      "metadata": {
        "colab": {
          "base_uri": "https://localhost:8080/"
        },
        "id": "VSDHFJqQm5xC",
        "outputId": "9e74017d-863a-48e0-f593-66e5ef701fa2"
      },
      "execution_count": 22,
      "outputs": [
        {
          "output_type": "stream",
          "name": "stdout",
          "text": [
            "[1, 4, 9, 16, 25]\n"
          ]
        }
      ]
    }
  ]
}